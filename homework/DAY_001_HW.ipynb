{
 "cells": [
  {
   "cell_type": "markdown",
   "metadata": {},
   "source": [
    "作業1\n",
    "    1.你選的這組資料為何重要\n",
    "        ANS1.不同的特徵建立影像分析的概念\n",
    "    2.資料從何而來\n",
    "        ANS2.提供者:Aditya Khosla，Nityananda Jayadevaprakash，Bangpeng Yao和Li Fei-Fei。原始數據源位於Http://vision.stanford.edu/aditya86/ImageNetDogs/\n",
    "    3.蒐集的資料型態為何\n",
    "        ANS3.非結構化:圖像\n",
    "    4.這組資料想解決的問題\n",
    "        ANS4.圖片辨識犬隻年齡與犬種\n",
    "作業2\n",
    "    1.核心問題\n",
    "        ANS1.如何增加使用者、如何營利、如何建立後台程式\n",
    "    2.資料從何而來\n",
    "        ANS2.投放廣告或是建立手機APP並建立後台資料庫,分析使用者習慣\n",
    "    3.蒐集而來的資料型態為何\n",
    "        ANS3.結構化資料表格\n",
    "    4.你要回答的問題如何評估\n",
    "        ANS4.營收月成長率提高可驗證        \n"
   ]
  },
  {
   "cell_type": "code",
   "execution_count": 6,
   "metadata": {},
   "outputs": [
    {
     "name": "stdout",
     "output_type": "stream",
     "text": [
      "417.30061199947033\n",
      "0.9452358526817108\n",
      "0.9295889534479139\n"
     ]
    }
   ],
   "source": [
    "import numpy as np\n",
    "from sklearn.linear_model import LinearRegression\n",
    "\n",
    "X = np.array([\n",
    "    [10, 80], [8, 0], [8, 200], [5, 200], [7, 300], [8, 230], [7, 40], [9, 0], [6, 330], [9, 180]\n",
    "])\n",
    "y = np.array([469, 366, 371, 208, 246, 297, 363, 436, 198, 364])\n",
    "\n",
    "lm = LinearRegression()\n",
    "lm.fit(X, y)\n",
    "\n",
    "# 模型績效\n",
    "mse = np.mean((lm.predict(X) - y) ** 2)\n",
    "r_squared = lm.score(X, y)\n",
    "adj_r_squared = r_squared - (1 - r_squared) * (X.shape[1] / (X.shape[0] - X.shape[1] - 1))\n",
    "\n",
    "# 印出模型績效\n",
    "print(mse)\n",
    "print(r_squared)\n",
    "print(adj_r_squared)"
   ]
  },
  {
   "cell_type": "code",
   "execution_count": null,
   "metadata": {},
   "outputs": [],
   "source": []
  }
 ],
 "metadata": {
  "kernelspec": {
   "display_name": "Python 3",
   "language": "python",
   "name": "python3"
  },
  "language_info": {
   "codemirror_mode": {
    "name": "ipython",
    "version": 3
   },
   "file_extension": ".py",
   "mimetype": "text/x-python",
   "name": "python",
   "nbconvert_exporter": "python",
   "pygments_lexer": "ipython3",
   "version": "3.7.3"
  }
 },
 "nbformat": 4,
 "nbformat_minor": 2
}
